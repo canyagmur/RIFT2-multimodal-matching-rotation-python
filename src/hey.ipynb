{
 "cells": [
  {
   "cell_type": "code",
   "execution_count": 10,
   "metadata": {},
   "outputs": [],
   "source": [
    "import numpy as np\n",
    "import cv2\n",
    "\n",
    "def calculate_orientation_hist(x, y, radius, gradient, angle, n, Sa):\n",
    "    sigma = radius / 3\n",
    "    radius_x_left = x-radius\n",
    "    radius_x_right = x + radius\n",
    "    radius_y_up = y - radius\n",
    "    radius_y_down = y + radius\n",
    "\n",
    "    sub_gradient = gradient[radius_y_up:radius_y_down+1, radius_x_left:radius_x_right+1]\n",
    "    sub_angle = angle[radius_y_up:radius_y_down+1, radius_x_left:radius_x_right+1]\n",
    "\n",
    "    X = np.arange(-(x - radius_x_left), (radius_x_right - x) + 1)\n",
    "    Y = np.arange(-(y - radius_y_up), (radius_y_down - y) + 1)\n",
    "\n",
    "    XX, YY = np.meshgrid(X, Y)\n",
    "\n",
    "    gaussian_weight = np.exp(-(XX**2 + YY**2) / (2 * sigma**2))\n",
    "    W1 = sub_gradient * gaussian_weight\n",
    "    W = Sa[:W1.shape[0], :W1.shape[1]] * W1\n",
    "\n",
    "    bin = np.round(sub_angle * n / 360).astype(int)\n",
    "    bin[bin >= n] -= n\n",
    "    bin[bin < 0] += n\n",
    "\n",
    "    temp_hist = np.zeros(n)\n",
    "    for i in range(n):\n",
    "        wM = W[bin == i]\n",
    "        if wM.size > 0:\n",
    "            temp_hist[i] = np.sum(wM)\n",
    "\n",
    "    hist = np.zeros(n)\n",
    "    hist[0] = (temp_hist[n-2] + temp_hist[2]) / 16 + \\\n",
    "              4 * (temp_hist[n-1] + temp_hist[1]) / 16 + temp_hist[0] * 6 / 16\n",
    "    hist[1] = (temp_hist[n-1] + temp_hist[3]) / 16 + \\\n",
    "              4 * (temp_hist[0] + temp_hist[2]) / 16 + temp_hist[1] * 6 / 16\n",
    "    hist[2:n-2] = (temp_hist[0:n-4] + temp_hist[4:n]) / 16 + \\\n",
    "                  4 * (temp_hist[1:n-3] + temp_hist[3:n-1]) / 16 + temp_hist[2:n-2] * 6 / 16\n",
    "    hist[n-2] = (temp_hist[n-4] + temp_hist[0]) / 16 + \\\n",
    "                4 * (temp_hist[n-3] + temp_hist[n-1]) / 16 + temp_hist[n-2] * 6 / 16\n",
    "    hist[n-1] = (temp_hist[n-3] + temp_hist[1]) / 16 + \\\n",
    "                4 * (temp_hist[n-2] + temp_hist[0]) / 16 + temp_hist[n-1] * 6 / 16\n",
    "\n",
    "    max_value = np.max(hist)\n",
    "    return hist, max_value"
   ]
  },
  {
   "cell_type": "code",
   "execution_count": 11,
   "metadata": {},
   "outputs": [
    {
     "ename": "TypeError",
     "evalue": "slice indices must be integers or None or have an __index__ method",
     "output_type": "error",
     "traceback": [
      "\u001b[1;31m---------------------------------------------------------------------------\u001b[0m",
      "\u001b[1;31mTypeError\u001b[0m                                 Traceback (most recent call last)",
      "Cell \u001b[1;32mIn[11], line 24\u001b[0m\n\u001b[0;32m     18\u001b[0m matlab_max_value \u001b[38;5;241m=\u001b[39m matlab_data[\u001b[38;5;124m'\u001b[39m\u001b[38;5;124mmax_value\u001b[39m\u001b[38;5;124m'\u001b[39m][\u001b[38;5;241m0\u001b[39m][\u001b[38;5;241m0\u001b[39m]\n\u001b[0;32m     23\u001b[0m \u001b[38;5;66;03m# Run the Python function with the same inputs\u001b[39;00m\n\u001b[1;32m---> 24\u001b[0m python_hist, python_max_value \u001b[38;5;241m=\u001b[39m \u001b[43mcalculate_orientation_hist\u001b[49m\u001b[43m(\u001b[49m\u001b[43mx\u001b[49m\u001b[43m,\u001b[49m\u001b[43m \u001b[49m\u001b[43my\u001b[49m\u001b[43m,\u001b[49m\u001b[43m \u001b[49m\u001b[43mpatch_size\u001b[49m\u001b[43m \u001b[49m\u001b[38;5;241;43m/\u001b[39;49m\u001b[43m \u001b[49m\u001b[38;5;241;43m2\u001b[39;49m\u001b[43m,\u001b[49m\u001b[43m \u001b[49m\u001b[43mgradientImg\u001b[49m\u001b[43m,\u001b[49m\u001b[43m \u001b[49m\u001b[43mgradientAng\u001b[49m\u001b[43m,\u001b[49m\u001b[43m \u001b[49m\u001b[43mn\u001b[49m\u001b[43m,\u001b[49m\u001b[43m \u001b[49m\u001b[43mSa\u001b[49m\u001b[43m)\u001b[49m\n\u001b[0;32m     26\u001b[0m \u001b[38;5;66;03m# Compare the results\u001b[39;00m\n\u001b[0;32m     27\u001b[0m \u001b[38;5;28mprint\u001b[39m(\u001b[38;5;124m\"\u001b[39m\u001b[38;5;124mMATLAB hist:\u001b[39m\u001b[38;5;124m\"\u001b[39m, matlab_hist)\n",
      "Cell \u001b[1;32mIn[10], line 11\u001b[0m, in \u001b[0;36mcalculate_orientation_hist\u001b[1;34m(x, y, radius, gradient, angle, n, Sa)\u001b[0m\n\u001b[0;32m      8\u001b[0m radius_y_up \u001b[38;5;241m=\u001b[39m y \u001b[38;5;241m-\u001b[39m radius\n\u001b[0;32m      9\u001b[0m radius_y_down \u001b[38;5;241m=\u001b[39m y \u001b[38;5;241m+\u001b[39m radius\n\u001b[1;32m---> 11\u001b[0m sub_gradient \u001b[38;5;241m=\u001b[39m \u001b[43mgradient\u001b[49m\u001b[43m[\u001b[49m\u001b[43mradius_y_up\u001b[49m\u001b[43m:\u001b[49m\u001b[43mradius_y_down\u001b[49m\u001b[38;5;241;43m+\u001b[39;49m\u001b[38;5;241;43m1\u001b[39;49m\u001b[43m,\u001b[49m\u001b[43m \u001b[49m\u001b[43mradius_x_left\u001b[49m\u001b[43m:\u001b[49m\u001b[43mradius_x_right\u001b[49m\u001b[38;5;241;43m+\u001b[39;49m\u001b[38;5;241;43m1\u001b[39;49m\u001b[43m]\u001b[49m\n\u001b[0;32m     12\u001b[0m sub_angle \u001b[38;5;241m=\u001b[39m angle[radius_y_up:radius_y_down\u001b[38;5;241m+\u001b[39m\u001b[38;5;241m1\u001b[39m, radius_x_left:radius_x_right\u001b[38;5;241m+\u001b[39m\u001b[38;5;241m1\u001b[39m]\n\u001b[0;32m     14\u001b[0m X \u001b[38;5;241m=\u001b[39m np\u001b[38;5;241m.\u001b[39marange(\u001b[38;5;241m-\u001b[39m(x \u001b[38;5;241m-\u001b[39m radius_x_left), (radius_x_right \u001b[38;5;241m-\u001b[39m x) \u001b[38;5;241m+\u001b[39m \u001b[38;5;241m1\u001b[39m)\n",
      "\u001b[1;31mTypeError\u001b[0m: slice indices must be integers or None or have an __index__ method"
     ]
    }
   ],
   "source": [
    "import numpy as np\n",
    "import scipy.io\n",
    "\n",
    "\n",
    "\n",
    "# Load the MATLAB variables\n",
    "matlab_data = scipy.io.loadmat('D:\\Research Related\\HasanHoca\\RIFT2-multimodal-matching-rotation-python/third_party\\RIFT2-multimodal-matching-rotation-master/matlab_variables.mat')\n",
    "\n",
    "# Extract the variables\n",
    "x = matlab_data['x'][0][0]\n",
    "y = matlab_data['y'][0][0]\n",
    "patch_size = matlab_data['patch_size'][0][0]\n",
    "gradientImg = matlab_data['gradientImg']\n",
    "gradientAng = matlab_data['gradientAng']\n",
    "n = matlab_data['n'][0][0]\n",
    "Sa = matlab_data['Sa']\n",
    "matlab_hist = matlab_data['hist'][0]\n",
    "matlab_max_value = matlab_data['max_value'][0][0]\n",
    "\n",
    "\n",
    "\n",
    "\n",
    "# Run the Python function with the same inputs\n",
    "python_hist, python_max_value = calculate_orientation_hist(x, y, patch_size / 2, gradientImg, gradientAng, n, Sa)\n",
    "\n",
    "# Compare the results\n",
    "print(\"MATLAB hist:\", matlab_hist)\n",
    "print(\"Python hist:\", python_hist)\n",
    "print(\"MATLAB max_value:\", matlab_max_value)\n",
    "print(\"Python max_value:\", python_max_value)\n",
    "\n",
    "# Check if they are close\n",
    "hist_close = np.allclose(matlab_hist, python_hist, atol=1e-6)\n",
    "max_value_close = np.isclose(matlab_max_value, python_max_value, atol=1e-6)\n",
    "\n",
    "print(\"Histograms close:\", hist_close)\n",
    "print(\"Max values close:\", max_value_close)\n"
   ]
  }
 ],
 "metadata": {
  "kernelspec": {
   "display_name": "rift",
   "language": "python",
   "name": "python3"
  },
  "language_info": {
   "codemirror_mode": {
    "name": "ipython",
    "version": 3
   },
   "file_extension": ".py",
   "mimetype": "text/x-python",
   "name": "python",
   "nbconvert_exporter": "python",
   "pygments_lexer": "ipython3",
   "version": "3.11.0"
  }
 },
 "nbformat": 4,
 "nbformat_minor": 2
}
